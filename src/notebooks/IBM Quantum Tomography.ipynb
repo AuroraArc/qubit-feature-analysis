{
 "cells": [
  {
   "cell_type": "code",
   "execution_count": null,
   "id": "2ad43b7d",
   "metadata": {},
   "outputs": [],
   "source": [
    "from qiskit_ibm_runtime import QiskitRuntimeService\n",
    "from qiskit import IBMQ"
   ]
  },
  {
   "cell_type": "code",
   "execution_count": null,
   "id": "47942f04",
   "metadata": {},
   "outputs": [],
   "source": [
    "service = QiskitRuntimeService()\n",
    "service.backends(operational=True, min_num_qubits=2)"
   ]
  },
  {
   "cell_type": "code",
   "execution_count": null,
   "id": "0585241d",
   "metadata": {},
   "outputs": [],
   "source": [
    "service.least_busy(simulator=False,operational=True,min_num_qubits=2)"
   ]
  },
  {
   "cell_type": "code",
   "execution_count": null,
   "id": "000542fa",
   "metadata": {},
   "outputs": [],
   "source": [
    "from qiskit_aer import AerSimulator\n",
    "from qiskit.providers.fake_provider import FakePerth"
   ]
  },
  {
   "cell_type": "code",
   "execution_count": null,
   "id": "09c09fc0",
   "metadata": {},
   "outputs": [],
   "source": [
    "backend = AerSimulator.from_backend(FakePerth())\n",
    "AerSimulator.available_methods(automatic)"
   ]
  },
  {
   "cell_type": "code",
   "execution_count": null,
   "id": "51eceaed",
   "metadata": {},
   "outputs": [],
   "source": [
    "import qiskit\n",
    "from qiskit_experiments.framework import ParallelExperiment\n",
    "from qiskit_experiments.library import StateTomography"
   ]
  },
  {
   "cell_type": "code",
   "execution_count": null,
   "id": "301b7db0",
   "metadata": {},
   "outputs": [],
   "source": [
    "#GHZ State preparation circuit\n",
    "nq = 2\n",
    "qc_ghz = qiskit.QuantumCircuit(nq)\n",
    "qc_ghz.h(0)\n",
    "qc_ghz.s(0)\n",
    "for i in range(1, nq):\n",
    "    qc_ghz.cx(0,i)\n",
    "\n",
    "# QST Experiment\n",
    "qstexp1 = StateTomography(qc_ghz)\n",
    "qstdata1 = qstexp1.run(backend, seed_simulation=100).block_for_results()\n",
    "\n",
    "#Print results\n",
    "for result in qstdata1.analysis_results():\n",
    "    print(result)"
   ]
  },
  {
   "cell_type": "code",
   "execution_count": null,
   "id": "91889759",
   "metadata": {},
   "outputs": [],
   "source": []
  }
 ],
 "metadata": {
  "kernelspec": {
   "display_name": "Qiskit (stable)",
   "language": "python",
   "name": "qiskit-stable"
  },
  "language_info": {
   "codemirror_mode": {
    "name": "ipython",
    "version": 3
   },
   "file_extension": ".py",
   "mimetype": "text/x-python",
   "name": "python",
   "nbconvert_exporter": "python",
   "pygments_lexer": "ipython3",
   "version": "3.10.13"
  }
 },
 "nbformat": 4,
 "nbformat_minor": 5
}
