{
 "cells": [
  {
   "cell_type": "code",
   "execution_count": null,
   "id": "initial_id",
   "metadata": {
    "collapsed": true
   },
   "outputs": [],
   "source": [
    "import qiskit\n",
    "from qiskit_experiments.framework import ParallelExperiment\n",
    "from qiskit_experiments.library import StateTomography\n",
    "from qiskit import QuantumCircuit, ClassicalRegister, QuantumRegister\n",
    "\n",
    "from qiskit.visualization import plot_state_city\n",
    "\n",
    "from qiskit_aer import AerSimulator\n",
    "from qiskit.providers.fake_provider import FakePerth\n",
    "\n",
    "from math import pi\n",
    "\n",
    "backend = AerSimulator.from_backend(FakePerth())"
   ]
  },
  {
   "cell_type": "code",
   "execution_count": null,
   "outputs": [],
   "source": [
    "# state preparation circuit\n",
    "# num_qubits = 4\n",
    "# qc = QuantumCircuit(4)  \n",
    "# qc.h(0)\n",
    "# qc.s(0)\n",
    "# for i in range(1, num_qubits):\n",
    "#     qc.cx(0, i)\n",
    "\n",
    "qr = QuantumRegister(3, 'q')\n",
    "anc = QuantumRegister(1, 'anc')\n",
    "cr = ClassicalRegister(3, 'c')\n",
    "qc = QuantumCircuit(qr, anc, cr)\n",
    "\n",
    "qc.x(anc[0])\n",
    "qc.h(anc[0])\n",
    "qc.h(qr[0:3])\n",
    "qc.cx(qr[0:3], anc[0])\n",
    "qc.h(qr[0:3])\n",
    "qc.barrier(qr)\n",
    "# qc.measure(qr, cr)\n",
    "\n",
    "# QST experiment\n",
    "qstexp1 = StateTomography(qc)\n",
    "qstdata1 = qstexp1.run(backend, seed_simulation=1).block_for_results()\n",
    "\n",
    "# Print results\n",
    "for result in qstdata1.analysis_results():\n",
    "    print(result)\n",
    "\n",
    "# print(qstdata1.analysis_results('state').value)\n",
    "# print(qstdata1.analysis_results('state').device_components)\n",
    "# print(\"state_fidelity = {:.5f}\".format(qstdata1.analysis_results('state_fidelity').value))\n",
    "\n",
    "# 5-qubit bell state\n",
    "# q5 = QuantumRegister(5)\n",
    "# bell5 = QuantumCircuit(q5)\n",
    "# bell5.h(q5[0])\n",
    "# for j in range(4):\n",
    "#     bell5.cx(q5[j], q5[j + 1])\n",
    "qc.draw('mpl')"
   ],
   "metadata": {
    "collapsed": false
   },
   "id": "3fd3ca49e4c88af0"
  },
  {
   "cell_type": "code",
   "execution_count": null,
   "outputs": [],
   "source": [
    "\n",
    "# plot_bloch_multivector(qstdata1.analysis_results('state').value, title='Density Matrix')\n",
    "plot_state_city(qstdata1.analysis_results('state').value, title='Density Matrix')\n",
    "# plot_state_hinton(qstdata1.analysis_results('state').value, title='Density Matrix')\n",
    "# plot_state_paulivec(qstdata1.analysis_results('state').value, title='Density Matrix')\n",
    "# plot_state_qsphere(qstdata1.analysis_results('state').value)"
   ],
   "metadata": {
    "collapsed": false
   },
   "id": "5a315ea035393981"
  },
  {
   "cell_type": "code",
   "execution_count": null,
   "outputs": [],
   "source": [
    "num_qubits = 5\n",
    "gates = [qiskit.circuit.library.RXGate(i * pi / (num_qubits - 1)) for i in range(num_qubits)]\n",
    "subexps = [StateTomography(gate, physical_qubits=[i]) for i, gate in enumerate(gates)]\n",
    "parexp = ParallelExperiment(subexps)\n",
    "pardata = parexp.run(backend, seed_simulation=1).block_for_results()\n",
    "for i, expdata in enumerate(pardata.child_data()):\n",
    "    \n",
    "    print(f'\\nParallel exp {i}')\n",
    "    print('state: {}'.format(expdata.analysis_results('state').value))\n",
    "    print('device_components: {}'.format(expdata.analysis_results('state').device_components))\n",
    "    print('state_fidelity: {:.5f}'.format(expdata.analysis_results('state_fidelity').value))\n",
    "    "
   ],
   "metadata": {
    "collapsed": false
   },
   "id": "2e1c8f48c5580b15"
  },
  {
   "cell_type": "code",
   "execution_count": null,
   "outputs": [],
   "source": [],
   "metadata": {
    "collapsed": false
   },
   "id": "f86da55538c80c6d"
  },
  {
   "cell_type": "code",
   "execution_count": null,
   "outputs": [],
   "source": [],
   "metadata": {
    "collapsed": false
   },
   "id": "c282260bc3fc59cd"
  }
 ],
 "metadata": {
  "kernelspec": {
   "display_name": "Python 3",
   "language": "python",
   "name": "python3"
  },
  "language_info": {
   "codemirror_mode": {
    "name": "ipython",
    "version": 2
   },
   "file_extension": ".py",
   "mimetype": "text/x-python",
   "name": "python",
   "nbconvert_exporter": "python",
   "pygments_lexer": "ipython2",
   "version": "2.7.6"
  }
 },
 "nbformat": 4,
 "nbformat_minor": 5
}
