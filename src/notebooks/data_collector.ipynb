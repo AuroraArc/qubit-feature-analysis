{
 "cells": [
  {
   "cell_type": "code",
   "execution_count": 1,
   "id": "initial_id",
   "metadata": {
    "collapsed": true
   },
   "outputs": [],
   "source": [
    "from qiskit_ibm_runtime import QiskitRuntimeService\n",
    "import datetime\n",
    "import json, csv\n",
    "import os.path\n",
    "import pandas as pd"
   ]
  },
  {
   "cell_type": "code",
   "execution_count": null,
   "id": "105a24bd568716dd",
   "metadata": {
    "collapsed": false
   },
   "outputs": [],
   "source": [
    "service = QiskitRuntimeService()\n",
    "# service.backends(simulator=False, operational=True)"
   ]
  },
  {
   "cell_type": "code",
   "execution_count": null,
   "id": "b31a307b46450962",
   "metadata": {
    "collapsed": false
   },
   "outputs": [],
   "source": [
    "backend = service.backend('ibm_nairobi')"
   ]
  },
  {
   "cell_type": "code",
   "execution_count": null,
   "id": "d3f905db5904f368",
   "metadata": {
    "collapsed": false
   },
   "outputs": [],
   "source": [
    "num_of_days = 315\n",
    "save_path = '/Users/home/Desktop/college/fa23/research/src/notebooks/data/nairobi'\n",
    "for i in range(num_of_days):\n",
    "    date = datetime.datetime(2023, 1, 1, 12) + datetime.timedelta(i)\n",
    "    properties = backend.properties(datetime=date)\n",
    "    complete_name = os.path.join(save_path, 'unformatted.json')\n",
    "    with open(complete_name, 'w', newline='') as file:\n",
    "        file.write(json.dumps(properties.to_dict(),default=str))\n",
    "    with open(complete_name) as file:\n",
    "        unformatted_data = json.load(file)\n",
    "        file.close()\n",
    "    dateString = date.strftime('%Y-%m-%d')\n",
    "    complete_name = os.path.join(save_path, dateString+'-qubits.csv')\n",
    "    with open(complete_name, 'w', newline='') as csv_file:\n",
    "        writer = csv.writer(csv_file)\n",
    "        writer.writerow([\"Qubit\", \"Name\", \"Unit\", \"Value\"])\n",
    "        \n",
    "        for qubit_index, qubits in enumerate(unformatted_data['qubits']):\n",
    "            for entry in qubits:\n",
    "                if entry['name'] == 'readout_error':\n",
    "                    continue\n",
    "                name = entry['name']\n",
    "                if entry['unit'] == '':\n",
    "                    unit = 'per'\n",
    "                else:\n",
    "                    unit = entry['unit']\n",
    "                value = entry['value']\n",
    "                writer.writerow([qubit_index,name,unit,value])\n",
    "    \n",
    "    complete_name = os.path.join(save_path, dateString+'-gates.csv')\n",
    "    with open(complete_name, 'w', newline='') as csv_file:\n",
    "        writer = csv.writer(csv_file)\n",
    "        writer.writerow([\"Qubit\", \"Gate\", \"Parameter\", \"Unit\", \"Value\", \"Gate Name\"])\n",
    "        \n",
    "        for gate in unformatted_data['gates']:\n",
    "            for param in gate['parameters']:\n",
    "                qubit = gate['qubits'][0]\n",
    "                gate_type = gate['gate']\n",
    "                param_name = param['name']\n",
    "                if param['unit'] == '':\n",
    "                    param_unit = 'per'\n",
    "                else:\n",
    "                    param_unit = param['unit']\n",
    "                param_value = param['value']\n",
    "                gate_name = gate['name']\n",
    "                if gate['gate'] == 'rz' or gate['gate'] == 'x':\n",
    "                    continue\n",
    "                if gate['gate'] != 'reset' and gate['gate'] != 'cx' and param['name'] == 'gate_length':\n",
    "                    continue\n",
    "                writer.writerow([qubit, gate_type, param_name, param_unit, param_value, gate_name])\n",
    "    \n",
    "    complete_name = os.path.join(save_path, dateString+'-general.csv')            \n",
    "    with open(complete_name, 'w', newline='') as csv_file:\n",
    "        writer = csv.writer(csv_file)\n",
    "        writer.writerow(['Name', 'Unit', 'Value'])\n",
    "        for item in unformatted_data['general']:\n",
    "            name = item['name']\n",
    "            unit = item['unit']\n",
    "            value = item['value']\n",
    "            writer.writerow([name, unit, value])"
   ]
  },
  {
   "cell_type": "code",
   "execution_count": null,
   "id": "c25e29a1ff1c1743",
   "metadata": {
    "collapsed": false
   },
   "outputs": [],
   "source": []
  }
 ],
 "metadata": {
  "kernelspec": {
   "display_name": "qiskit-stable",
   "language": "python",
   "name": "python3"
  },
  "language_info": {
   "codemirror_mode": {
    "name": "ipython",
    "version": 3
   },
   "file_extension": ".py",
   "mimetype": "text/x-python",
   "name": "python",
   "nbconvert_exporter": "python",
   "pygments_lexer": "ipython3",
   "version": "3.10.13"
  }
 },
 "nbformat": 4,
 "nbformat_minor": 5
}
