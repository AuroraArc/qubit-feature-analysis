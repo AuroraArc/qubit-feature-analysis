{
 "cells": [
  {
   "cell_type": "code",
   "execution_count": null,
   "id": "3754595d",
   "metadata": {},
   "outputs": [],
   "source": [
    "from qiskit_ibm_provider import IBMProvider\n",
    "IBMProvider.save_account(token='d08d1c50ce09c396132697448970e1232740fde77f320e695ce61ca596982079616b6e2574c6e5dd702c19e0990482d240de4130379dda39991b26a0e67232fd', overwrite=True)"
   ]
  },
  {
   "cell_type": "code",
   "execution_count": null,
   "id": "54cbce6d",
   "metadata": {},
   "outputs": [],
   "source": [
    "provider = IBMProvider()\n",
    "print(provider.backends())"
   ]
  },
  {
   "cell_type": "code",
   "execution_count": null,
   "id": "45de9705",
   "metadata": {},
   "outputs": [],
   "source": []
  }
 ],
 "metadata": {
  "kernelspec": {
   "display_name": "Qiskit (stable)",
   "language": "python",
   "name": "qiskit-stable"
  },
  "language_info": {
   "codemirror_mode": {
    "name": "ipython",
    "version": 3
   },
   "file_extension": ".py",
   "mimetype": "text/x-python",
   "name": "python",
   "nbconvert_exporter": "python",
   "pygments_lexer": "ipython3",
   "version": "3.10.13"
  }
 },
 "nbformat": 4,
 "nbformat_minor": 5
}
